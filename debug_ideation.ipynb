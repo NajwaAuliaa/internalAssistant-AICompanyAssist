{
 "cells": [
  {
   "cell_type": "markdown",
   "metadata": {},
   "source": [
    "# Debug Project Ideation\n",
    "Debug untuk mengecek kenapa tasks tidak terbaca dari project ideation"
   ]
  },
  {
   "cell_type": "code",
   "execution_count": null,
   "metadata": {},
   "outputs": [],
   "source": [
    "import requests\n",
    "import json\n",
    "\n",
    "base_url = \"http://localhost:8001\""
   ]
  },
  {
   "cell_type": "markdown",
   "metadata": {},
   "source": [
    "## 1. Check Authentication Status"
   ]
  },
  {
   "cell_type": "code",
   "execution_count": null,
   "metadata": {},
   "outputs": [],
   "source": [
    "# Check auth status\n",
    "auth_response = requests.get(f\"{base_url}/auth/status\")\n",
    "auth_data = auth_response.json()\n",
    "print(f\"Auth status: {auth_data}\")\n",
    "\n",
    "if not auth_data.get(\"authenticated\", False):\n",
    "    print(\"❌ User not authenticated. Please login first.\")\n",
    "    print(f\"Login URL: {base_url}/auth/microsoft\")\n",
    "else:\n",
    "    print(\"✅ User authenticated\")"
   ]
  },
  {
   "cell_type": "markdown",
   "metadata": {},
   "source": [
    "## 2. Debug Ideation Project Step by Step"
   ]
  },
  {
   "cell_type": "code",
   "execution_count": null,
   "metadata": {},
   "outputs": [],
   "source": [
    "# Debug ideation endpoint\n",
    "debug_response = requests.get(f\"{base_url}/debug/ideation\")\n",
    "debug_data = debug_response.json()\n",
    "\n",
    "print(f\"Debug response status: {debug_response.status_code}\")\n",
    "print(f\"Authenticated: {debug_data.get('authenticated')}\")\n",
    "print(\"\\n\" + \"=\"*50)\n",
    "\n",
    "for step in debug_data.get('steps', []):\n",
    "    print(f\"\\nStep {step['step']}: {step['action']}\")\n",
    "    print(f\"Result: {step['result']}\")\n",
    "    \n",
    "    if 'plan_titles' in step:\n",
    "        print(f\"Available plans: {step['plan_titles']}\")\n",
    "    \n",
    "    if 'plan_info' in step and step['plan_info']:\n",
    "        plan = step['plan_info']\n",
    "        print(f\"Found plan: {plan.get('title')} (ID: {plan.get('id')})\")\n",
    "    \n",
    "    if 'task_titles' in step:\n",
    "        print(f\"Task samples: {step['task_titles']}\")\n",
    "    \n",
    "    if 'error' in step:\n",
    "        print(f\"❌ Error: {step['error']}\")\n",
    "\n",
    "print(\"\\n\" + \"=\"*50)\n",
    "\n",
    "if 'error' in debug_data:\n",
    "    print(f\"❌ Final error: {debug_data['error']}\")\n",
    "\n",
    "if 'final_result' in debug_data:\n",
    "    final = debug_data['final_result']\n",
    "    if 'error' in final:\n",
    "        print(f\"❌ Analysis error: {final['error']}\")\n",
    "        if 'available_plans' in final:\n",
    "            print(f\"Available plans: {final['available_plans']}\")\n",
    "    else:\n",
    "        print(f\"✅ Analysis success: {final['analysis']['total_tasks']} tasks\")\n",
    "        print(f\"Completed: {final['analysis']['completed_tasks']}\")\n",
    "        print(f\"In Progress: {final['analysis']['in_progress_tasks']}\")\n",
    "        print(f\"Not Started: {final['analysis']['not_started_tasks']}\")"
   ]
  },
  {
   "cell_type": "markdown",
   "metadata": {},
   "source": [
    "## 3. Test Project Chat"
   ]
  },
  {
   "cell_type": "code",
   "execution_count": null,
   "metadata": {},
   "outputs": [],
   "source": [
    "# Test project chat with ideation\n",
    "chat_response = requests.post(f\"{base_url}/project-chat\", \n",
    "                            json={\"message\": \"progress project ideation\"})\n",
    "chat_data = chat_response.json()\n",
    "\n",
    "print(f\"Chat response status: {chat_response.status_code}\")\n",
    "answer = chat_data.get('answer', '')\n",
    "print(f\"Answer length: {len(answer)} chars\")\n",
    "print(\"\\nAnswer:\")\n",
    "print(answer)"
   ]
  },
  {
   "cell_type": "markdown",
   "metadata": {},
   "source": [
    "## 4. Test Get All Projects"
   ]
  },
  {
   "cell_type": "code",
   "execution_count": null,
   "metadata": {},
   "outputs": [],
   "source": [
    "# Get all projects\n",
    "projects_response = requests.get(f\"{base_url}/projects\")\n",
    "projects_data = projects_response.json()\n",
    "\n",
    "print(f\"Projects response status: {projects_response.status_code}\")\n",
    "if 'error' in projects_data:\n",
    "    print(f\"❌ Projects error: {projects_data['error']}\")\n",
    "else:\n",
    "    projects_text = projects_data.get('projects', '')\n",
    "    print(f\"Projects text length: {len(projects_text)} chars\")\n",
    "    print(\"\\nProjects:\")\n",
    "    print(projects_text)"
   ]
  },
  {
   "cell_type": "markdown",
   "metadata": {},
   "source": [
    "## 5. Test analyze_project_data Function"
   ]
  },
  {
   "cell_type": "code",
   "execution_count": null,
   "metadata": {},
   "outputs": [],
   "source": [
    "# Test analyze_project_data directly\n",
    "analyze_response = requests.get(f\"{base_url}/debug/analyze-project/ideation\")\n",
    "analyze_data = analyze_response.json()\n",
    "\n",
    "print(f\"Analyze project response status: {analyze_response.status_code}\")\n",
    "print(\"\\n=== ANALYZE_PROJECT_DATA OUTPUT ===")\n",
    "print(json.dumps(analyze_data, indent=2))"
   ]
  },
  {
   "cell_type": "markdown",
   "metadata": {},
   "source": [
    "## 6. Test generate_project_response Function"
   ]
  },
  {
   "cell_type": "code",
   "execution_count": null,
   "metadata": {},
   "outputs": [],
   "source": [
    "# Test generate_project_response directly\n",
    "generate_response = requests.post(f\"{base_url}/debug/generate-response\", \n",
    "                                 json={\"message\": \"progress project ideation\"})\n",
    "generate_data = generate_response.json()\n",
    "\n",
    "print(f\"Generate response status: {generate_response.status_code}\")\n",
    "print(\"\\n=== GENERATE_PROJECT_RESPONSE OUTPUT ===")\n",
    "print(json.dumps(generate_data, indent=2))"
   ]
  },
  {
   "cell_type": "markdown",
   "metadata": {},
   "source": [
    "## 7. Test Variations of Ideation Query"
   ]
  },
  {
   "cell_type": "code",
   "execution_count": null,
   "metadata": {},
   "outputs": [],
   "source": [
    "# Test different variations\n",
    "variations = [\n",
    "    \"ideation\",\n",
    "    \"Ideation\", \n",
    "    \"IDEATION\",\n",
    "    \"project ideation\",\n",
    "    \"ideation project\",\n",
    "    \"tasks ideation\"\n",
    "]\n",
    "\n",
    "for variation in variations:\n",
    "    print(f\"\\n--- Testing: '{variation}' ---\")\n",
    "    \n",
    "    response = requests.post(f\"{base_url}/project-chat\", \n",
    "                           json={\"message\": f\"progress {variation}\"})\n",
    "    data = response.json()\n",
    "    \n",
    "    answer = data.get('answer', '')\n",
    "    print(f\"Status: {response.status_code}\")\n",
    "    print(f\"Answer length: {len(answer)} chars\")\n",
    "    \n",
    "    if \"error\" in answer.lower() or \"tidak\" in answer.lower():\n",
    "        print(f\"❌ Failed: {answer[:200]}...\")\n",
    "    else:\n",
    "        print(f\"✅ Success: {answer[:200]}...\")"
   ]
  }
 ],
 "metadata": {
  "kernelspec": {
   "display_name": "Python 3",
   "language": "python",
   "name": "python3"
  },
  "language_info": {
   "codemirror_mode": {
    "name": "ipython",
    "version": 3
   },
   "file_extension": ".py",
   "mimetype": "text/x-python",
   "name": "python",
   "nbconvert_exporter": "python",
   "pygments_lexer": "ipython3",
   "version": "3.8.5"
  }
 },
 "nbformat": 4,
 "nbformat_minor": 4
}